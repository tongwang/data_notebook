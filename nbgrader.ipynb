{
 "cells": [
  {
   "cell_type": "markdown",
   "metadata": {},
   "source": [
    "## Setup"
   ]
  },
  {
   "cell_type": "markdown",
   "metadata": {},
   "source": [
    "Create a new config file named `nbgrader_config.py`:"
   ]
  },
  {
   "cell_type": "code",
   "execution_count": 1,
   "metadata": {},
   "outputs": [
    {
     "name": "stdout",
     "output_type": "stream",
     "text": [
      "\u001b[32m[NbGraderApp | INFO]\u001b[m New config file saved to 'nbgrader_config.py'\r\n"
     ]
    }
   ],
   "source": [
    "!nbgrader --generate-config"
   ]
  },
  {
   "cell_type": "markdown",
   "metadata": {},
   "source": [
    "## Management Students\n",
    "Create a student CSV file with `id`, `last_name`, `first_name`, `email` header, such as this one:"
   ]
  },
  {
   "cell_type": "code",
   "execution_count": 2,
   "metadata": {},
   "outputs": [
    {
     "name": "stdout",
     "output_type": "stream",
     "text": [
      "| id   | last_name | first_name | email |\r\n",
      "| ---- | --------- | ---------- | ----- |\r\n",
      "| twan | Wang      | Tong       |       |\r\n",
      "| emma | Wang      | Emma       |       |\r\n"
     ]
    }
   ],
   "source": [
    "!<students.csv head | csvlook"
   ]
  },
  {
   "cell_type": "code",
   "execution_count": 3,
   "metadata": {},
   "outputs": [
    {
     "name": "stdout",
     "output_type": "stream",
     "text": [
      "\u001b[32m[DbStudentImportApp | INFO]\u001b[m Importing students from: 'students.csv'\n",
      "\u001b[32m[DbStudentImportApp | INFO]\u001b[m Creating/updating student with ID 'twan': {'last_name': 'Wang', 'first_name': 'Tong', 'email': None}\n",
      "\u001b[32m[DbStudentImportApp | INFO]\u001b[m Creating/updating student with ID 'emma': {'last_name': 'Wang', 'first_name': 'Emma', 'email': None}\n"
     ]
    }
   ],
   "source": [
    "!nbgrader db student import students.csv"
   ]
  },
  {
   "cell_type": "code",
   "execution_count": 4,
   "metadata": {},
   "outputs": [
    {
     "name": "stdout",
     "output_type": "stream",
     "text": [
      "There are 2 students in the database:\r\n",
      "emma (Wang, Emma) -- None\r\n",
      "twan (Wang, Tong) -- None\r\n"
     ]
    }
   ],
   "source": [
    "!nbgrader db student list"
   ]
  },
  {
   "cell_type": "markdown",
   "metadata": {},
   "source": [
    "## Manage Assignments"
   ]
  },
  {
   "cell_type": "markdown",
   "metadata": {},
   "source": [
    "You can add a new assignment using `nbgrader` command line:"
   ]
  },
  {
   "cell_type": "code",
   "execution_count": 5,
   "metadata": {},
   "outputs": [
    {
     "name": "stdout",
     "output_type": "stream",
     "text": [
      "\u001b[32m[DbAssignmentAddApp | INFO]\u001b[m Creating/updating assignment with ID 'exercise-01': {'duedate': None}\r\n"
     ]
    }
   ],
   "source": [
    "!nbgrader db assignment add exercise-01"
   ]
  },
  {
   "cell_type": "code",
   "execution_count": 6,
   "metadata": {},
   "outputs": [
    {
     "name": "stdout",
     "output_type": "stream",
     "text": [
      "There are 1 assignments in the database:\r\n",
      "exercise-01 (due: None)\r\n"
     ]
    }
   ],
   "source": [
    "!nbgrader db assignment list"
   ]
  },
  {
   "cell_type": "markdown",
   "metadata": {},
   "source": [
    "However for some reason it doesn't show up in the Jupyter nbgrader extension UI until the folder is created under source:"
   ]
  },
  {
   "cell_type": "code",
   "execution_count": 9,
   "metadata": {},
   "outputs": [
    {
     "name": "stdout",
     "output_type": "stream",
     "text": [
      "mkdir: cannot create directory ‘source/exercise-01’: File exists\r\n"
     ]
    }
   ],
   "source": [
    "!mkdir source/exercise-01"
   ]
  },
  {
   "cell_type": "code",
   "execution_count": 10,
   "metadata": {},
   "outputs": [
    {
     "name": "stdout",
     "output_type": "stream",
     "text": [
      "problem-01.ipynb\r\n"
     ]
    }
   ],
   "source": [
    "!ls source/exercise-01"
   ]
  },
  {
   "cell_type": "markdown",
   "metadata": {},
   "source": [
    "The best way so far is to create them manually on Jupyter nbgrader extension UI."
   ]
  },
  {
   "cell_type": "markdown",
   "metadata": {},
   "source": [
    "## Release Assignment\n",
    "Student's assignment is stored in `released/<ASSIGNMENT>/` folder:"
   ]
  },
  {
   "cell_type": "code",
   "execution_count": 11,
   "metadata": {},
   "outputs": [
    {
     "name": "stdout",
     "output_type": "stream",
     "text": [
      "problem-01.ipynb\r\n"
     ]
    }
   ],
   "source": [
    "!ls release/exercise-01/"
   ]
  },
  {
   "cell_type": "markdown",
   "metadata": {},
   "source": [
    "## Auto-grade Assignment"
   ]
  },
  {
   "cell_type": "markdown",
   "metadata": {},
   "source": [
    "Student's submissions should be put into `submitted/<USER>/<ASSIGNMENT>/` folder:"
   ]
  },
  {
   "cell_type": "code",
   "execution_count": 12,
   "metadata": {},
   "outputs": [
    {
     "name": "stdout",
     "output_type": "stream",
     "text": [
      "problem-01.ipynb\r\n"
     ]
    }
   ],
   "source": [
    "!ls submitted/twan/exercise-01/"
   ]
  },
  {
   "cell_type": "markdown",
   "metadata": {},
   "source": [
    "To autograde all submitted assignments:"
   ]
  },
  {
   "cell_type": "code",
   "execution_count": 14,
   "metadata": {},
   "outputs": [
    {
     "name": "stdout",
     "output_type": "stream",
     "text": [
      "\u001b[32m[AutogradeApp | INFO]\u001b[m Overwriting files with master versions from the source directory\n",
      "\u001b[32m[AutogradeApp | INFO]\u001b[m Copying /home/jovyan/source/./exercise-01/.DS_Store -> /home/jovyan/autograded/emma/exercise-01/.DS_Store\n",
      "\u001b[32m[AutogradeApp | INFO]\u001b[m Copying /home/jovyan/source/./exercise-01/.nbgrader.log -> /home/jovyan/autograded/emma/exercise-01/.nbgrader.log\n",
      "\u001b[32m[AutogradeApp | INFO]\u001b[m Sanitizing /home/jovyan/submitted/emma/exercise-01/problem-01.ipynb\n",
      "\u001b[32m[AutogradeApp | INFO]\u001b[m Converting notebook /home/jovyan/submitted/emma/exercise-01/problem-01.ipynb\n",
      "\u001b[32m[AutogradeApp | INFO]\u001b[m Writing 6992 bytes to /home/jovyan/autograded/emma/exercise-01/problem-01.ipynb\n",
      "\u001b[32m[AutogradeApp | INFO]\u001b[m Autograding /home/jovyan/autograded/emma/exercise-01/problem-01.ipynb\n",
      "\u001b[32m[AutogradeApp | INFO]\u001b[m Converting notebook /home/jovyan/autograded/emma/exercise-01/problem-01.ipynb\n",
      "\u001b[32m[AutogradeApp | INFO]\u001b[m Executing notebook with kernel: python3\n",
      "\u001b[32m[AutogradeApp | INFO]\u001b[m Writing 18783 bytes to /home/jovyan/autograded/emma/exercise-01/problem-01.ipynb\n",
      "\u001b[32m[AutogradeApp | INFO]\u001b[m Setting destination file permissions to 444\n",
      "\u001b[32m[AutogradeApp | INFO]\u001b[m Overwriting files with master versions from the source directory\n",
      "\u001b[32m[AutogradeApp | INFO]\u001b[m Copying /home/jovyan/source/./exercise-01/.DS_Store -> /home/jovyan/autograded/twan/exercise-01/.DS_Store\n",
      "\u001b[32m[AutogradeApp | INFO]\u001b[m Copying /home/jovyan/source/./exercise-01/.nbgrader.log -> /home/jovyan/autograded/twan/exercise-01/.nbgrader.log\n",
      "\u001b[32m[AutogradeApp | INFO]\u001b[m Sanitizing /home/jovyan/submitted/twan/exercise-01/problem-01.ipynb\n",
      "\u001b[32m[AutogradeApp | INFO]\u001b[m Converting notebook /home/jovyan/submitted/twan/exercise-01/problem-01.ipynb\n",
      "\u001b[32m[AutogradeApp | INFO]\u001b[m Writing 6992 bytes to /home/jovyan/autograded/twan/exercise-01/problem-01.ipynb\n",
      "\u001b[32m[AutogradeApp | INFO]\u001b[m Autograding /home/jovyan/autograded/twan/exercise-01/problem-01.ipynb\n",
      "\u001b[32m[AutogradeApp | INFO]\u001b[m Converting notebook /home/jovyan/autograded/twan/exercise-01/problem-01.ipynb\n",
      "\u001b[32m[AutogradeApp | INFO]\u001b[m Executing notebook with kernel: python3\n",
      "\u001b[32m[AutogradeApp | INFO]\u001b[m Writing 18783 bytes to /home/jovyan/autograded/twan/exercise-01/problem-01.ipynb\n",
      "\u001b[32m[AutogradeApp | INFO]\u001b[m Setting destination file permissions to 444\n"
     ]
    }
   ],
   "source": [
    "!nbgrader autograde exercise-01"
   ]
  },
  {
   "cell_type": "markdown",
   "metadata": {},
   "source": [
    "## Grade re-submissions"
   ]
  },
  {
   "cell_type": "markdown",
   "metadata": {},
   "source": [
    "To grade re-submissions, put the re-submissions in the same `submitted/<USER>/<ASSIGNMENT>/` folder. Then remove the folder `autograded/<USER>/<ASSIGNMENT>/` before run `nbgrader autograde` command again."
   ]
  },
  {
   "cell_type": "code",
   "execution_count": 15,
   "metadata": {
    "collapsed": true
   },
   "outputs": [],
   "source": [
    "!rm -rf autograded/twan/exercise-01/"
   ]
  },
  {
   "cell_type": "code",
   "execution_count": 16,
   "metadata": {},
   "outputs": [
    {
     "name": "stdout",
     "output_type": "stream",
     "text": [
      "\u001b[32m[AutogradeApp | INFO]\u001b[m Skipping existing assignment: /home/jovyan/autograded/emma/exercise-01\n",
      "\u001b[32m[AutogradeApp | INFO]\u001b[m Overwriting files with master versions from the source directory\n",
      "\u001b[32m[AutogradeApp | INFO]\u001b[m Copying /home/jovyan/source/./exercise-01/.DS_Store -> /home/jovyan/autograded/twan/exercise-01/.DS_Store\n",
      "\u001b[32m[AutogradeApp | INFO]\u001b[m Copying /home/jovyan/source/./exercise-01/.nbgrader.log -> /home/jovyan/autograded/twan/exercise-01/.nbgrader.log\n",
      "\u001b[32m[AutogradeApp | INFO]\u001b[m Sanitizing /home/jovyan/submitted/twan/exercise-01/problem-01.ipynb\n",
      "\u001b[32m[AutogradeApp | INFO]\u001b[m Converting notebook /home/jovyan/submitted/twan/exercise-01/problem-01.ipynb\n",
      "\u001b[32m[AutogradeApp | INFO]\u001b[m Writing 6992 bytes to /home/jovyan/autograded/twan/exercise-01/problem-01.ipynb\n",
      "\u001b[32m[AutogradeApp | INFO]\u001b[m Autograding /home/jovyan/autograded/twan/exercise-01/problem-01.ipynb\n",
      "\u001b[32m[AutogradeApp | INFO]\u001b[m Converting notebook /home/jovyan/autograded/twan/exercise-01/problem-01.ipynb\n",
      "\u001b[32m[AutogradeApp | INFO]\u001b[m Executing notebook with kernel: python3\n",
      "\u001b[32m[AutogradeApp | INFO]\u001b[m Writing 18783 bytes to /home/jovyan/autograded/twan/exercise-01/problem-01.ipynb\n",
      "\u001b[32m[AutogradeApp | INFO]\u001b[m Setting destination file permissions to 444\n"
     ]
    }
   ],
   "source": [
    "!nbgrader autograde exercise-01"
   ]
  },
  {
   "cell_type": "markdown",
   "metadata": {},
   "source": [
    "## Manual grading\n",
    "In the Manage Submissions page, any submissions that need manual grading have status set to **needs manual grading**. You can click \"Manual Grading\" menu on the left to start manual grading. You can leave comments during manual grading."
   ]
  },
  {
   "cell_type": "markdown",
   "metadata": {},
   "source": [
    "## Leave feedbacks"
   ]
  },
  {
   "cell_type": "code",
   "execution_count": 17,
   "metadata": {},
   "outputs": [
    {
     "name": "stdout",
     "output_type": "stream",
     "text": [
      "\u001b[32m[FeedbackApp | INFO]\u001b[m Copying /home/jovyan/autograded/emma/exercise-01/.DS_Store -> /home/jovyan/feedback/emma/exercise-01/.DS_Store\n",
      "\u001b[32m[FeedbackApp | INFO]\u001b[m Copying /home/jovyan/autograded/emma/exercise-01/.nbgrader.log -> /home/jovyan/feedback/emma/exercise-01/.nbgrader.log\n",
      "\u001b[32m[FeedbackApp | INFO]\u001b[m Converting notebook /home/jovyan/autograded/emma/exercise-01/problem-01.ipynb\n",
      "\u001b[32m[FeedbackApp | INFO]\u001b[m Writing 280648 bytes to /home/jovyan/feedback/emma/exercise-01/problem-01.html\n",
      "\u001b[32m[FeedbackApp | INFO]\u001b[m Setting destination file permissions to 644\n",
      "\u001b[32m[FeedbackApp | INFO]\u001b[m Copying /home/jovyan/autograded/twan/exercise-01/.DS_Store -> /home/jovyan/feedback/twan/exercise-01/.DS_Store\n",
      "\u001b[32m[FeedbackApp | INFO]\u001b[m Copying /home/jovyan/autograded/twan/exercise-01/.nbgrader.log -> /home/jovyan/feedback/twan/exercise-01/.nbgrader.log\n",
      "\u001b[32m[FeedbackApp | INFO]\u001b[m Converting notebook /home/jovyan/autograded/twan/exercise-01/problem-01.ipynb\n",
      "\u001b[32m[FeedbackApp | INFO]\u001b[m Writing 280648 bytes to /home/jovyan/feedback/twan/exercise-01/problem-01.html\n",
      "\u001b[32m[FeedbackApp | INFO]\u001b[m Setting destination file permissions to 644\n"
     ]
    }
   ],
   "source": [
    "!nbgrader feedback exercise-01"
   ]
  },
  {
   "cell_type": "markdown",
   "metadata": {},
   "source": [
    "Feedbacks are stored in `feedback/<USER>/<ASSIGNMENT>` as a html file."
   ]
  },
  {
   "cell_type": "code",
   "execution_count": 18,
   "metadata": {},
   "outputs": [
    {
     "name": "stdout",
     "output_type": "stream",
     "text": [
      "problem-01.html\r\n"
     ]
    }
   ],
   "source": [
    "!ls feedback/twan/exercise-01"
   ]
  },
  {
   "cell_type": "code",
   "execution_count": null,
   "metadata": {
    "collapsed": true
   },
   "outputs": [],
   "source": []
  }
 ],
 "metadata": {
  "kernelspec": {
   "display_name": "Python 3",
   "language": "python",
   "name": "python3"
  },
  "language_info": {
   "codemirror_mode": {
    "name": "ipython",
    "version": 3
   },
   "file_extension": ".py",
   "mimetype": "text/x-python",
   "name": "python",
   "nbconvert_exporter": "python",
   "pygments_lexer": "ipython3",
   "version": "3.6.1"
  }
 },
 "nbformat": 4,
 "nbformat_minor": 2
}
